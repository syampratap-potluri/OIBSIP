{
  "cells": [
    {
      "cell_type": "code",
      "execution_count": null,
      "id": "e72a7558",
      "metadata": {
        "execution": {
          "iopub.execute_input": "2023-03-08T09:01:24.192605Z",
          "iopub.status.busy": "2023-03-08T09:01:24.192010Z",
          "iopub.status.idle": "2023-03-08T09:01:24.204702Z",
          "shell.execute_reply": "2023-03-08T09:01:24.203768Z"
        },
        "papermill": {
          "duration": 0.02413,
          "end_time": "2023-03-08T09:01:24.207305",
          "exception": false,
          "start_time": "2023-03-08T09:01:24.183175",
          "status": "completed"
        },
        "tags": [],
        "id": "e72a7558"
      },
      "outputs": [],
      "source": [
        "#IMPORTING LIBRARIES\n",
        "import pandas as pd\n",
        "import numpy as np\n",
        "import matplotlib.pyplot as plt\n"
      ]
    },
    {
      "cell_type": "code",
      "execution_count": null,
      "id": "a9f90de0",
      "metadata": {
        "execution": {
          "iopub.execute_input": "2023-03-08T09:01:24.221318Z",
          "iopub.status.busy": "2023-03-08T09:01:24.220076Z",
          "iopub.status.idle": "2023-03-08T09:01:24.225193Z",
          "shell.execute_reply": "2023-03-08T09:01:24.224227Z"
        },
        "papermill": {
          "duration": 0.014173,
          "end_time": "2023-03-08T09:01:24.227459",
          "exception": false,
          "start_time": "2023-03-08T09:01:24.213286",
          "status": "completed"
        },
        "tags": [],
        "id": "a9f90de0"
      },
      "outputs": [],
      "source": [
        "import warnings\n",
        "warnings.filterwarnings(\"ignore\")\n"
      ]
    },
    {
      "cell_type": "code",
      "execution_count": null,
      "id": "d9637493",
      "metadata": {
        "execution": {
          "iopub.execute_input": "2023-03-08T09:01:24.240079Z",
          "iopub.status.busy": "2023-03-08T09:01:24.239407Z",
          "iopub.status.idle": "2023-03-08T09:01:24.301545Z",
          "shell.execute_reply": "2023-03-08T09:01:24.300455Z"
        },
        "papermill": {
          "duration": 0.071249,
          "end_time": "2023-03-08T09:01:24.304100",
          "exception": false,
          "start_time": "2023-03-08T09:01:24.232851",
          "status": "completed"
        },
        "tags": [],
        "colab": {
          "base_uri": "https://localhost:8080/",
          "height": 206
        },
        "id": "d9637493",
        "outputId": "9fcd7c83-74d7-401e-9e52-2c9f8d5ca455"
      },
      "outputs": [
        {
          "output_type": "execute_result",
          "data": {
            "text/plain": [
              "     v1                                                 v2 Unnamed: 2  \\\n",
              "0   ham  Go until jurong point, crazy.. Available only ...        NaN   \n",
              "1   ham                      Ok lar... Joking wif u oni...        NaN   \n",
              "2  spam  Free entry in 2 a wkly comp to win FA Cup fina...        NaN   \n",
              "3   ham  U dun say so early hor... U c already then say...        NaN   \n",
              "4   ham  Nah I don't think he goes to usf, he lives aro...        NaN   \n",
              "\n",
              "  Unnamed: 3 Unnamed: 4  \n",
              "0        NaN        NaN  \n",
              "1        NaN        NaN  \n",
              "2        NaN        NaN  \n",
              "3        NaN        NaN  \n",
              "4        NaN        NaN  "
            ],
            "text/html": [
              "\n",
              "  <div id=\"df-bfea87ea-6b4a-474d-b57c-c098764f160d\">\n",
              "    <div class=\"colab-df-container\">\n",
              "      <div>\n",
              "<style scoped>\n",
              "    .dataframe tbody tr th:only-of-type {\n",
              "        vertical-align: middle;\n",
              "    }\n",
              "\n",
              "    .dataframe tbody tr th {\n",
              "        vertical-align: top;\n",
              "    }\n",
              "\n",
              "    .dataframe thead th {\n",
              "        text-align: right;\n",
              "    }\n",
              "</style>\n",
              "<table border=\"1\" class=\"dataframe\">\n",
              "  <thead>\n",
              "    <tr style=\"text-align: right;\">\n",
              "      <th></th>\n",
              "      <th>v1</th>\n",
              "      <th>v2</th>\n",
              "      <th>Unnamed: 2</th>\n",
              "      <th>Unnamed: 3</th>\n",
              "      <th>Unnamed: 4</th>\n",
              "    </tr>\n",
              "  </thead>\n",
              "  <tbody>\n",
              "    <tr>\n",
              "      <th>0</th>\n",
              "      <td>ham</td>\n",
              "      <td>Go until jurong point, crazy.. Available only ...</td>\n",
              "      <td>NaN</td>\n",
              "      <td>NaN</td>\n",
              "      <td>NaN</td>\n",
              "    </tr>\n",
              "    <tr>\n",
              "      <th>1</th>\n",
              "      <td>ham</td>\n",
              "      <td>Ok lar... Joking wif u oni...</td>\n",
              "      <td>NaN</td>\n",
              "      <td>NaN</td>\n",
              "      <td>NaN</td>\n",
              "    </tr>\n",
              "    <tr>\n",
              "      <th>2</th>\n",
              "      <td>spam</td>\n",
              "      <td>Free entry in 2 a wkly comp to win FA Cup fina...</td>\n",
              "      <td>NaN</td>\n",
              "      <td>NaN</td>\n",
              "      <td>NaN</td>\n",
              "    </tr>\n",
              "    <tr>\n",
              "      <th>3</th>\n",
              "      <td>ham</td>\n",
              "      <td>U dun say so early hor... U c already then say...</td>\n",
              "      <td>NaN</td>\n",
              "      <td>NaN</td>\n",
              "      <td>NaN</td>\n",
              "    </tr>\n",
              "    <tr>\n",
              "      <th>4</th>\n",
              "      <td>ham</td>\n",
              "      <td>Nah I don't think he goes to usf, he lives aro...</td>\n",
              "      <td>NaN</td>\n",
              "      <td>NaN</td>\n",
              "      <td>NaN</td>\n",
              "    </tr>\n",
              "  </tbody>\n",
              "</table>\n",
              "</div>\n",
              "      <button class=\"colab-df-convert\" onclick=\"convertToInteractive('df-bfea87ea-6b4a-474d-b57c-c098764f160d')\"\n",
              "              title=\"Convert this dataframe to an interactive table.\"\n",
              "              style=\"display:none;\">\n",
              "        \n",
              "  <svg xmlns=\"http://www.w3.org/2000/svg\" height=\"24px\"viewBox=\"0 0 24 24\"\n",
              "       width=\"24px\">\n",
              "    <path d=\"M0 0h24v24H0V0z\" fill=\"none\"/>\n",
              "    <path d=\"M18.56 5.44l.94 2.06.94-2.06 2.06-.94-2.06-.94-.94-2.06-.94 2.06-2.06.94zm-11 1L8.5 8.5l.94-2.06 2.06-.94-2.06-.94L8.5 2.5l-.94 2.06-2.06.94zm10 10l.94 2.06.94-2.06 2.06-.94-2.06-.94-.94-2.06-.94 2.06-2.06.94z\"/><path d=\"M17.41 7.96l-1.37-1.37c-.4-.4-.92-.59-1.43-.59-.52 0-1.04.2-1.43.59L10.3 9.45l-7.72 7.72c-.78.78-.78 2.05 0 2.83L4 21.41c.39.39.9.59 1.41.59.51 0 1.02-.2 1.41-.59l7.78-7.78 2.81-2.81c.8-.78.8-2.07 0-2.86zM5.41 20L4 18.59l7.72-7.72 1.47 1.35L5.41 20z\"/>\n",
              "  </svg>\n",
              "      </button>\n",
              "      \n",
              "  <style>\n",
              "    .colab-df-container {\n",
              "      display:flex;\n",
              "      flex-wrap:wrap;\n",
              "      gap: 12px;\n",
              "    }\n",
              "\n",
              "    .colab-df-convert {\n",
              "      background-color: #E8F0FE;\n",
              "      border: none;\n",
              "      border-radius: 50%;\n",
              "      cursor: pointer;\n",
              "      display: none;\n",
              "      fill: #1967D2;\n",
              "      height: 32px;\n",
              "      padding: 0 0 0 0;\n",
              "      width: 32px;\n",
              "    }\n",
              "\n",
              "    .colab-df-convert:hover {\n",
              "      background-color: #E2EBFA;\n",
              "      box-shadow: 0px 1px 2px rgba(60, 64, 67, 0.3), 0px 1px 3px 1px rgba(60, 64, 67, 0.15);\n",
              "      fill: #174EA6;\n",
              "    }\n",
              "\n",
              "    [theme=dark] .colab-df-convert {\n",
              "      background-color: #3B4455;\n",
              "      fill: #D2E3FC;\n",
              "    }\n",
              "\n",
              "    [theme=dark] .colab-df-convert:hover {\n",
              "      background-color: #434B5C;\n",
              "      box-shadow: 0px 1px 3px 1px rgba(0, 0, 0, 0.15);\n",
              "      filter: drop-shadow(0px 1px 2px rgba(0, 0, 0, 0.3));\n",
              "      fill: #FFFFFF;\n",
              "    }\n",
              "  </style>\n",
              "\n",
              "      <script>\n",
              "        const buttonEl =\n",
              "          document.querySelector('#df-bfea87ea-6b4a-474d-b57c-c098764f160d button.colab-df-convert');\n",
              "        buttonEl.style.display =\n",
              "          google.colab.kernel.accessAllowed ? 'block' : 'none';\n",
              "\n",
              "        async function convertToInteractive(key) {\n",
              "          const element = document.querySelector('#df-bfea87ea-6b4a-474d-b57c-c098764f160d');\n",
              "          const dataTable =\n",
              "            await google.colab.kernel.invokeFunction('convertToInteractive',\n",
              "                                                     [key], {});\n",
              "          if (!dataTable) return;\n",
              "\n",
              "          const docLinkHtml = 'Like what you see? Visit the ' +\n",
              "            '<a target=\"_blank\" href=https://colab.research.google.com/notebooks/data_table.ipynb>data table notebook</a>'\n",
              "            + ' to learn more about interactive tables.';\n",
              "          element.innerHTML = '';\n",
              "          dataTable['output_type'] = 'display_data';\n",
              "          await google.colab.output.renderOutput(dataTable, element);\n",
              "          const docLink = document.createElement('div');\n",
              "          docLink.innerHTML = docLinkHtml;\n",
              "          element.appendChild(docLink);\n",
              "        }\n",
              "      </script>\n",
              "    </div>\n",
              "  </div>\n",
              "  "
            ]
          },
          "metadata": {},
          "execution_count": 43
        }
      ],
      "source": [
        "#df is the dataframe\n",
        "df = pd.read_csv(\"/content/spam.csv\",encoding = \"ISO-8859-1\")\n",
        "df.head()\n"
      ]
    },
    {
      "cell_type": "code",
      "execution_count": null,
      "id": "ab4ec2ff",
      "metadata": {
        "execution": {
          "iopub.execute_input": "2023-03-08T09:01:24.317413Z",
          "iopub.status.busy": "2023-03-08T09:01:24.316621Z",
          "iopub.status.idle": "2023-03-08T09:01:24.326653Z",
          "shell.execute_reply": "2023-03-08T09:01:24.325627Z"
        },
        "papermill": {
          "duration": 0.019298,
          "end_time": "2023-03-08T09:01:24.329162",
          "exception": false,
          "start_time": "2023-03-08T09:01:24.309864",
          "status": "completed"
        },
        "tags": [],
        "colab": {
          "base_uri": "https://localhost:8080/"
        },
        "id": "ab4ec2ff",
        "outputId": "1480d8f7-7311-40c0-ec70-f9456201e735"
      },
      "outputs": [
        {
          "output_type": "execute_result",
          "data": {
            "text/plain": [
              "v1               0\n",
              "v2               0\n",
              "Unnamed: 2    5522\n",
              "Unnamed: 3    5560\n",
              "Unnamed: 4    5566\n",
              "dtype: int64"
            ]
          },
          "metadata": {},
          "execution_count": 44
        }
      ],
      "source": [
        "#finding null values\n",
        "df.isnull().sum()"
      ]
    },
    {
      "cell_type": "code",
      "execution_count": null,
      "id": "7d9ac5c6",
      "metadata": {
        "execution": {
          "iopub.execute_input": "2023-03-08T09:01:24.342024Z",
          "iopub.status.busy": "2023-03-08T09:01:24.341679Z",
          "iopub.status.idle": "2023-03-08T09:01:24.348915Z",
          "shell.execute_reply": "2023-03-08T09:01:24.347817Z"
        },
        "papermill": {
          "duration": 0.016388,
          "end_time": "2023-03-08T09:01:24.351223",
          "exception": false,
          "start_time": "2023-03-08T09:01:24.334835",
          "status": "completed"
        },
        "tags": [],
        "id": "7d9ac5c6"
      },
      "outputs": [],
      "source": [
        "#dropping null values\n",
        "df1 = df.drop([\"Unnamed: 2\",\"Unnamed: 3\",\"Unnamed: 4\"], axis=1)"
      ]
    },
    {
      "cell_type": "code",
      "execution_count": null,
      "id": "14910165",
      "metadata": {
        "execution": {
          "iopub.execute_input": "2023-03-08T09:01:24.364335Z",
          "iopub.status.busy": "2023-03-08T09:01:24.363988Z",
          "iopub.status.idle": "2023-03-08T09:01:24.372415Z",
          "shell.execute_reply": "2023-03-08T09:01:24.371681Z"
        },
        "papermill": {
          "duration": 0.01749,
          "end_time": "2023-03-08T09:01:24.374457",
          "exception": false,
          "start_time": "2023-03-08T09:01:24.356967",
          "status": "completed"
        },
        "tags": [],
        "colab": {
          "base_uri": "https://localhost:8080/",
          "height": 206
        },
        "id": "14910165",
        "outputId": "ad40a64e-9658-4781-9c03-9b711ff7b636"
      },
      "outputs": [
        {
          "output_type": "execute_result",
          "data": {
            "text/plain": [
              "     v1                                                 v2\n",
              "0   ham  Go until jurong point, crazy.. Available only ...\n",
              "1   ham                      Ok lar... Joking wif u oni...\n",
              "2  spam  Free entry in 2 a wkly comp to win FA Cup fina...\n",
              "3   ham  U dun say so early hor... U c already then say...\n",
              "4   ham  Nah I don't think he goes to usf, he lives aro..."
            ],
            "text/html": [
              "\n",
              "  <div id=\"df-e0505b59-87b7-4402-8bdd-fb5bb88c46ca\">\n",
              "    <div class=\"colab-df-container\">\n",
              "      <div>\n",
              "<style scoped>\n",
              "    .dataframe tbody tr th:only-of-type {\n",
              "        vertical-align: middle;\n",
              "    }\n",
              "\n",
              "    .dataframe tbody tr th {\n",
              "        vertical-align: top;\n",
              "    }\n",
              "\n",
              "    .dataframe thead th {\n",
              "        text-align: right;\n",
              "    }\n",
              "</style>\n",
              "<table border=\"1\" class=\"dataframe\">\n",
              "  <thead>\n",
              "    <tr style=\"text-align: right;\">\n",
              "      <th></th>\n",
              "      <th>v1</th>\n",
              "      <th>v2</th>\n",
              "    </tr>\n",
              "  </thead>\n",
              "  <tbody>\n",
              "    <tr>\n",
              "      <th>0</th>\n",
              "      <td>ham</td>\n",
              "      <td>Go until jurong point, crazy.. Available only ...</td>\n",
              "    </tr>\n",
              "    <tr>\n",
              "      <th>1</th>\n",
              "      <td>ham</td>\n",
              "      <td>Ok lar... Joking wif u oni...</td>\n",
              "    </tr>\n",
              "    <tr>\n",
              "      <th>2</th>\n",
              "      <td>spam</td>\n",
              "      <td>Free entry in 2 a wkly comp to win FA Cup fina...</td>\n",
              "    </tr>\n",
              "    <tr>\n",
              "      <th>3</th>\n",
              "      <td>ham</td>\n",
              "      <td>U dun say so early hor... U c already then say...</td>\n",
              "    </tr>\n",
              "    <tr>\n",
              "      <th>4</th>\n",
              "      <td>ham</td>\n",
              "      <td>Nah I don't think he goes to usf, he lives aro...</td>\n",
              "    </tr>\n",
              "  </tbody>\n",
              "</table>\n",
              "</div>\n",
              "      <button class=\"colab-df-convert\" onclick=\"convertToInteractive('df-e0505b59-87b7-4402-8bdd-fb5bb88c46ca')\"\n",
              "              title=\"Convert this dataframe to an interactive table.\"\n",
              "              style=\"display:none;\">\n",
              "        \n",
              "  <svg xmlns=\"http://www.w3.org/2000/svg\" height=\"24px\"viewBox=\"0 0 24 24\"\n",
              "       width=\"24px\">\n",
              "    <path d=\"M0 0h24v24H0V0z\" fill=\"none\"/>\n",
              "    <path d=\"M18.56 5.44l.94 2.06.94-2.06 2.06-.94-2.06-.94-.94-2.06-.94 2.06-2.06.94zm-11 1L8.5 8.5l.94-2.06 2.06-.94-2.06-.94L8.5 2.5l-.94 2.06-2.06.94zm10 10l.94 2.06.94-2.06 2.06-.94-2.06-.94-.94-2.06-.94 2.06-2.06.94z\"/><path d=\"M17.41 7.96l-1.37-1.37c-.4-.4-.92-.59-1.43-.59-.52 0-1.04.2-1.43.59L10.3 9.45l-7.72 7.72c-.78.78-.78 2.05 0 2.83L4 21.41c.39.39.9.59 1.41.59.51 0 1.02-.2 1.41-.59l7.78-7.78 2.81-2.81c.8-.78.8-2.07 0-2.86zM5.41 20L4 18.59l7.72-7.72 1.47 1.35L5.41 20z\"/>\n",
              "  </svg>\n",
              "      </button>\n",
              "      \n",
              "  <style>\n",
              "    .colab-df-container {\n",
              "      display:flex;\n",
              "      flex-wrap:wrap;\n",
              "      gap: 12px;\n",
              "    }\n",
              "\n",
              "    .colab-df-convert {\n",
              "      background-color: #E8F0FE;\n",
              "      border: none;\n",
              "      border-radius: 50%;\n",
              "      cursor: pointer;\n",
              "      display: none;\n",
              "      fill: #1967D2;\n",
              "      height: 32px;\n",
              "      padding: 0 0 0 0;\n",
              "      width: 32px;\n",
              "    }\n",
              "\n",
              "    .colab-df-convert:hover {\n",
              "      background-color: #E2EBFA;\n",
              "      box-shadow: 0px 1px 2px rgba(60, 64, 67, 0.3), 0px 1px 3px 1px rgba(60, 64, 67, 0.15);\n",
              "      fill: #174EA6;\n",
              "    }\n",
              "\n",
              "    [theme=dark] .colab-df-convert {\n",
              "      background-color: #3B4455;\n",
              "      fill: #D2E3FC;\n",
              "    }\n",
              "\n",
              "    [theme=dark] .colab-df-convert:hover {\n",
              "      background-color: #434B5C;\n",
              "      box-shadow: 0px 1px 3px 1px rgba(0, 0, 0, 0.15);\n",
              "      filter: drop-shadow(0px 1px 2px rgba(0, 0, 0, 0.3));\n",
              "      fill: #FFFFFF;\n",
              "    }\n",
              "  </style>\n",
              "\n",
              "      <script>\n",
              "        const buttonEl =\n",
              "          document.querySelector('#df-e0505b59-87b7-4402-8bdd-fb5bb88c46ca button.colab-df-convert');\n",
              "        buttonEl.style.display =\n",
              "          google.colab.kernel.accessAllowed ? 'block' : 'none';\n",
              "\n",
              "        async function convertToInteractive(key) {\n",
              "          const element = document.querySelector('#df-e0505b59-87b7-4402-8bdd-fb5bb88c46ca');\n",
              "          const dataTable =\n",
              "            await google.colab.kernel.invokeFunction('convertToInteractive',\n",
              "                                                     [key], {});\n",
              "          if (!dataTable) return;\n",
              "\n",
              "          const docLinkHtml = 'Like what you see? Visit the ' +\n",
              "            '<a target=\"_blank\" href=https://colab.research.google.com/notebooks/data_table.ipynb>data table notebook</a>'\n",
              "            + ' to learn more about interactive tables.';\n",
              "          element.innerHTML = '';\n",
              "          dataTable['output_type'] = 'display_data';\n",
              "          await google.colab.output.renderOutput(dataTable, element);\n",
              "          const docLink = document.createElement('div');\n",
              "          docLink.innerHTML = docLinkHtml;\n",
              "          element.appendChild(docLink);\n",
              "        }\n",
              "      </script>\n",
              "    </div>\n",
              "  </div>\n",
              "  "
            ]
          },
          "metadata": {},
          "execution_count": 46
        }
      ],
      "source": [
        "df1.head()"
      ]
    },
    {
      "cell_type": "code",
      "execution_count": null,
      "id": "8b24c01c",
      "metadata": {
        "execution": {
          "iopub.execute_input": "2023-03-08T09:01:24.388180Z",
          "iopub.status.busy": "2023-03-08T09:01:24.387607Z",
          "iopub.status.idle": "2023-03-08T09:01:24.398053Z",
          "shell.execute_reply": "2023-03-08T09:01:24.396893Z"
        },
        "papermill": {
          "duration": 0.020143,
          "end_time": "2023-03-08T09:01:24.400433",
          "exception": false,
          "start_time": "2023-03-08T09:01:24.380290",
          "status": "completed"
        },
        "tags": [],
        "colab": {
          "base_uri": "https://localhost:8080/",
          "height": 206
        },
        "id": "8b24c01c",
        "outputId": "d3872977-0b0c-47ac-e395-b976adb4bb57"
      },
      "outputs": [
        {
          "output_type": "execute_result",
          "data": {
            "text/plain": [
              "  Spam or Ham                                       Mail Message\n",
              "0         ham  Go until jurong point, crazy.. Available only ...\n",
              "1         ham                      Ok lar... Joking wif u oni...\n",
              "2        spam  Free entry in 2 a wkly comp to win FA Cup fina...\n",
              "3         ham  U dun say so early hor... U c already then say...\n",
              "4         ham  Nah I don't think he goes to usf, he lives aro..."
            ],
            "text/html": [
              "\n",
              "  <div id=\"df-6b1b6285-fbe9-40b2-9592-489136090f2c\">\n",
              "    <div class=\"colab-df-container\">\n",
              "      <div>\n",
              "<style scoped>\n",
              "    .dataframe tbody tr th:only-of-type {\n",
              "        vertical-align: middle;\n",
              "    }\n",
              "\n",
              "    .dataframe tbody tr th {\n",
              "        vertical-align: top;\n",
              "    }\n",
              "\n",
              "    .dataframe thead th {\n",
              "        text-align: right;\n",
              "    }\n",
              "</style>\n",
              "<table border=\"1\" class=\"dataframe\">\n",
              "  <thead>\n",
              "    <tr style=\"text-align: right;\">\n",
              "      <th></th>\n",
              "      <th>Spam or Ham</th>\n",
              "      <th>Mail Message</th>\n",
              "    </tr>\n",
              "  </thead>\n",
              "  <tbody>\n",
              "    <tr>\n",
              "      <th>0</th>\n",
              "      <td>ham</td>\n",
              "      <td>Go until jurong point, crazy.. Available only ...</td>\n",
              "    </tr>\n",
              "    <tr>\n",
              "      <th>1</th>\n",
              "      <td>ham</td>\n",
              "      <td>Ok lar... Joking wif u oni...</td>\n",
              "    </tr>\n",
              "    <tr>\n",
              "      <th>2</th>\n",
              "      <td>spam</td>\n",
              "      <td>Free entry in 2 a wkly comp to win FA Cup fina...</td>\n",
              "    </tr>\n",
              "    <tr>\n",
              "      <th>3</th>\n",
              "      <td>ham</td>\n",
              "      <td>U dun say so early hor... U c already then say...</td>\n",
              "    </tr>\n",
              "    <tr>\n",
              "      <th>4</th>\n",
              "      <td>ham</td>\n",
              "      <td>Nah I don't think he goes to usf, he lives aro...</td>\n",
              "    </tr>\n",
              "  </tbody>\n",
              "</table>\n",
              "</div>\n",
              "      <button class=\"colab-df-convert\" onclick=\"convertToInteractive('df-6b1b6285-fbe9-40b2-9592-489136090f2c')\"\n",
              "              title=\"Convert this dataframe to an interactive table.\"\n",
              "              style=\"display:none;\">\n",
              "        \n",
              "  <svg xmlns=\"http://www.w3.org/2000/svg\" height=\"24px\"viewBox=\"0 0 24 24\"\n",
              "       width=\"24px\">\n",
              "    <path d=\"M0 0h24v24H0V0z\" fill=\"none\"/>\n",
              "    <path d=\"M18.56 5.44l.94 2.06.94-2.06 2.06-.94-2.06-.94-.94-2.06-.94 2.06-2.06.94zm-11 1L8.5 8.5l.94-2.06 2.06-.94-2.06-.94L8.5 2.5l-.94 2.06-2.06.94zm10 10l.94 2.06.94-2.06 2.06-.94-2.06-.94-.94-2.06-.94 2.06-2.06.94z\"/><path d=\"M17.41 7.96l-1.37-1.37c-.4-.4-.92-.59-1.43-.59-.52 0-1.04.2-1.43.59L10.3 9.45l-7.72 7.72c-.78.78-.78 2.05 0 2.83L4 21.41c.39.39.9.59 1.41.59.51 0 1.02-.2 1.41-.59l7.78-7.78 2.81-2.81c.8-.78.8-2.07 0-2.86zM5.41 20L4 18.59l7.72-7.72 1.47 1.35L5.41 20z\"/>\n",
              "  </svg>\n",
              "      </button>\n",
              "      \n",
              "  <style>\n",
              "    .colab-df-container {\n",
              "      display:flex;\n",
              "      flex-wrap:wrap;\n",
              "      gap: 12px;\n",
              "    }\n",
              "\n",
              "    .colab-df-convert {\n",
              "      background-color: #E8F0FE;\n",
              "      border: none;\n",
              "      border-radius: 50%;\n",
              "      cursor: pointer;\n",
              "      display: none;\n",
              "      fill: #1967D2;\n",
              "      height: 32px;\n",
              "      padding: 0 0 0 0;\n",
              "      width: 32px;\n",
              "    }\n",
              "\n",
              "    .colab-df-convert:hover {\n",
              "      background-color: #E2EBFA;\n",
              "      box-shadow: 0px 1px 2px rgba(60, 64, 67, 0.3), 0px 1px 3px 1px rgba(60, 64, 67, 0.15);\n",
              "      fill: #174EA6;\n",
              "    }\n",
              "\n",
              "    [theme=dark] .colab-df-convert {\n",
              "      background-color: #3B4455;\n",
              "      fill: #D2E3FC;\n",
              "    }\n",
              "\n",
              "    [theme=dark] .colab-df-convert:hover {\n",
              "      background-color: #434B5C;\n",
              "      box-shadow: 0px 1px 3px 1px rgba(0, 0, 0, 0.15);\n",
              "      filter: drop-shadow(0px 1px 2px rgba(0, 0, 0, 0.3));\n",
              "      fill: #FFFFFF;\n",
              "    }\n",
              "  </style>\n",
              "\n",
              "      <script>\n",
              "        const buttonEl =\n",
              "          document.querySelector('#df-6b1b6285-fbe9-40b2-9592-489136090f2c button.colab-df-convert');\n",
              "        buttonEl.style.display =\n",
              "          google.colab.kernel.accessAllowed ? 'block' : 'none';\n",
              "\n",
              "        async function convertToInteractive(key) {\n",
              "          const element = document.querySelector('#df-6b1b6285-fbe9-40b2-9592-489136090f2c');\n",
              "          const dataTable =\n",
              "            await google.colab.kernel.invokeFunction('convertToInteractive',\n",
              "                                                     [key], {});\n",
              "          if (!dataTable) return;\n",
              "\n",
              "          const docLinkHtml = 'Like what you see? Visit the ' +\n",
              "            '<a target=\"_blank\" href=https://colab.research.google.com/notebooks/data_table.ipynb>data table notebook</a>'\n",
              "            + ' to learn more about interactive tables.';\n",
              "          element.innerHTML = '';\n",
              "          dataTable['output_type'] = 'display_data';\n",
              "          await google.colab.output.renderOutput(dataTable, element);\n",
              "          const docLink = document.createElement('div');\n",
              "          docLink.innerHTML = docLinkHtml;\n",
              "          element.appendChild(docLink);\n",
              "        }\n",
              "      </script>\n",
              "    </div>\n",
              "  </div>\n",
              "  "
            ]
          },
          "metadata": {},
          "execution_count": 47
        }
      ],
      "source": [
        "df1.rename(columns = {\"v1\" : \"Spam or Ham\", \"v2\":\"Mail Message\"},inplace = True)\n",
        "df1.head()\n"
      ]
    },
    {
      "cell_type": "code",
      "execution_count": null,
      "id": "1128e4ea",
      "metadata": {
        "execution": {
          "iopub.execute_input": "2023-03-08T09:01:24.414238Z",
          "iopub.status.busy": "2023-03-08T09:01:24.413844Z",
          "iopub.status.idle": "2023-03-08T09:01:24.420896Z",
          "shell.execute_reply": "2023-03-08T09:01:24.419735Z"
        },
        "papermill": {
          "duration": 0.016525,
          "end_time": "2023-03-08T09:01:24.423156",
          "exception": false,
          "start_time": "2023-03-08T09:01:24.406631",
          "status": "completed"
        },
        "tags": [],
        "colab": {
          "base_uri": "https://localhost:8080/"
        },
        "id": "1128e4ea",
        "outputId": "a4c2b00d-7660-4a17-9ca2-46bb6f56a80e"
      },
      "outputs": [
        {
          "output_type": "execute_result",
          "data": {
            "text/plain": [
              "(5572, 2)"
            ]
          },
          "metadata": {},
          "execution_count": 48
        }
      ],
      "source": [
        "df1.shape\n"
      ]
    },
    {
      "cell_type": "code",
      "execution_count": null,
      "id": "fc94340e",
      "metadata": {
        "execution": {
          "iopub.execute_input": "2023-03-08T09:01:24.437126Z",
          "iopub.status.busy": "2023-03-08T09:01:24.436709Z",
          "iopub.status.idle": "2023-03-08T09:01:25.424662Z",
          "shell.execute_reply": "2023-03-08T09:01:25.423662Z"
        },
        "papermill": {
          "duration": 0.99815,
          "end_time": "2023-03-08T09:01:25.427467",
          "exception": false,
          "start_time": "2023-03-08T09:01:24.429317",
          "status": "completed"
        },
        "tags": [],
        "id": "fc94340e"
      },
      "outputs": [],
      "source": [
        "#Converting the categorical values into numerical values\n",
        "from sklearn.preprocessing import LabelEncoder\n",
        "encoder = LabelEncoder()\n",
        "df1['Spam or Ham'] = encoder.fit_transform(df1['Spam or Ham'])\n"
      ]
    },
    {
      "cell_type": "code",
      "execution_count": null,
      "id": "deb8bf8e",
      "metadata": {
        "execution": {
          "iopub.execute_input": "2023-03-08T09:01:25.442285Z",
          "iopub.status.busy": "2023-03-08T09:01:25.441490Z",
          "iopub.status.idle": "2023-03-08T09:01:25.455962Z",
          "shell.execute_reply": "2023-03-08T09:01:25.454954Z"
        },
        "papermill": {
          "duration": 0.024254,
          "end_time": "2023-03-08T09:01:25.458174",
          "exception": false,
          "start_time": "2023-03-08T09:01:25.433920",
          "status": "completed"
        },
        "tags": [],
        "colab": {
          "base_uri": "https://localhost:8080/"
        },
        "id": "deb8bf8e",
        "outputId": "38d165ef-6e8e-49fb-d888-3c665b128018"
      },
      "outputs": [
        {
          "output_type": "execute_result",
          "data": {
            "text/plain": [
              "403"
            ]
          },
          "metadata": {},
          "execution_count": 50
        }
      ],
      "source": [
        "#Finding duplicates\n",
        "df1.duplicated().sum()"
      ]
    },
    {
      "cell_type": "code",
      "execution_count": null,
      "id": "2c79a9fa",
      "metadata": {
        "execution": {
          "iopub.execute_input": "2023-03-08T09:01:25.472024Z",
          "iopub.status.busy": "2023-03-08T09:01:25.471673Z",
          "iopub.status.idle": "2023-03-08T09:01:25.481039Z",
          "shell.execute_reply": "2023-03-08T09:01:25.480095Z"
        },
        "papermill": {
          "duration": 0.018716,
          "end_time": "2023-03-08T09:01:25.483315",
          "exception": false,
          "start_time": "2023-03-08T09:01:25.464599",
          "status": "completed"
        },
        "tags": [],
        "id": "2c79a9fa"
      },
      "outputs": [],
      "source": [
        "#dropping duplicates\n",
        "\n",
        "df1 = df1.drop_duplicates(keep = 'first')"
      ]
    },
    {
      "cell_type": "code",
      "execution_count": null,
      "id": "29da252f",
      "metadata": {
        "execution": {
          "iopub.execute_input": "2023-03-08T09:01:25.497305Z",
          "iopub.status.busy": "2023-03-08T09:01:25.496663Z",
          "iopub.status.idle": "2023-03-08T09:01:25.505911Z",
          "shell.execute_reply": "2023-03-08T09:01:25.505022Z"
        },
        "papermill": {
          "duration": 0.018441,
          "end_time": "2023-03-08T09:01:25.508029",
          "exception": false,
          "start_time": "2023-03-08T09:01:25.489588",
          "status": "completed"
        },
        "tags": [],
        "colab": {
          "base_uri": "https://localhost:8080/"
        },
        "id": "29da252f",
        "outputId": "25e8f201-41c8-43a5-9ced-872d0b946d71"
      },
      "outputs": [
        {
          "output_type": "execute_result",
          "data": {
            "text/plain": [
              "0"
            ]
          },
          "metadata": {},
          "execution_count": 52
        }
      ],
      "source": [
        "df1.duplicated().sum()\n"
      ]
    },
    {
      "cell_type": "code",
      "execution_count": null,
      "id": "68bafb0d",
      "metadata": {
        "execution": {
          "iopub.execute_input": "2023-03-08T09:01:25.523539Z",
          "iopub.status.busy": "2023-03-08T09:01:25.523100Z",
          "iopub.status.idle": "2023-03-08T09:01:25.528203Z",
          "shell.execute_reply": "2023-03-08T09:01:25.527117Z"
        },
        "papermill": {
          "duration": 0.014895,
          "end_time": "2023-03-08T09:01:25.530369",
          "exception": false,
          "start_time": "2023-03-08T09:01:25.515474",
          "status": "completed"
        },
        "tags": [],
        "id": "68bafb0d"
      },
      "outputs": [],
      "source": [
        "#Splitting the data\n",
        "X =  df1[\"Mail Message\"]\n",
        "y =df1[\"Spam or Ham\"]\n",
        "\n"
      ]
    },
    {
      "cell_type": "code",
      "execution_count": null,
      "id": "3be34b3f",
      "metadata": {
        "execution": {
          "iopub.execute_input": "2023-03-08T09:01:25.544402Z",
          "iopub.status.busy": "2023-03-08T09:01:25.544018Z",
          "iopub.status.idle": "2023-03-08T09:01:25.605849Z",
          "shell.execute_reply": "2023-03-08T09:01:25.604792Z"
        },
        "papermill": {
          "duration": 0.071672,
          "end_time": "2023-03-08T09:01:25.608333",
          "exception": false,
          "start_time": "2023-03-08T09:01:25.536661",
          "status": "completed"
        },
        "tags": [],
        "id": "3be34b3f"
      },
      "outputs": [],
      "source": [
        "#Splitting the data into training and testing data\n",
        "from sklearn.model_selection import train_test_split\n",
        "X_train, X_test, y_train,y_test = train_test_split(X,y,test_size = 0.20, random_state = 0)\n"
      ]
    },
    {
      "cell_type": "code",
      "execution_count": null,
      "id": "07c8d6f9",
      "metadata": {
        "execution": {
          "iopub.execute_input": "2023-03-08T09:01:25.623623Z",
          "iopub.status.busy": "2023-03-08T09:01:25.622938Z",
          "iopub.status.idle": "2023-03-08T09:01:25.824491Z",
          "shell.execute_reply": "2023-03-08T09:01:25.823486Z"
        },
        "papermill": {
          "duration": 0.212104,
          "end_time": "2023-03-08T09:01:25.827221",
          "exception": false,
          "start_time": "2023-03-08T09:01:25.615117",
          "status": "completed"
        },
        "tags": [],
        "colab": {
          "base_uri": "https://localhost:8080/"
        },
        "id": "07c8d6f9",
        "outputId": "708051eb-bcff-46bb-b304-30576ad30714"
      },
      "outputs": [
        {
          "output_type": "execute_result",
          "data": {
            "text/plain": [
              "array([[0, 0, 0, ..., 0, 0, 0],\n",
              "       [0, 0, 0, ..., 0, 0, 0],\n",
              "       [0, 0, 0, ..., 0, 0, 0],\n",
              "       ...,\n",
              "       [0, 0, 0, ..., 0, 0, 0],\n",
              "       [0, 0, 0, ..., 0, 0, 0],\n",
              "       [0, 0, 0, ..., 0, 0, 0]])"
            ]
          },
          "metadata": {},
          "execution_count": 55
        }
      ],
      "source": [
        "# Convert the text data into a matrix of token counts\n",
        "from sklearn.feature_extraction.text import CountVectorizer\n",
        "cv = CountVectorizer()\n",
        "X_train_count = cv.fit_transform(X_train.values)\n",
        "X_train_count.toarray()\n"
      ]
    },
    {
      "cell_type": "code",
      "execution_count": null,
      "id": "4b3893e3",
      "metadata": {
        "execution": {
          "iopub.execute_input": "2023-03-08T09:01:25.842094Z",
          "iopub.status.busy": "2023-03-08T09:01:25.841410Z",
          "iopub.status.idle": "2023-03-08T09:01:25.862833Z",
          "shell.execute_reply": "2023-03-08T09:01:25.861705Z"
        },
        "papermill": {
          "duration": 0.031264,
          "end_time": "2023-03-08T09:01:25.865163",
          "exception": false,
          "start_time": "2023-03-08T09:01:25.833899",
          "status": "completed"
        },
        "tags": [],
        "colab": {
          "base_uri": "https://localhost:8080/",
          "height": 74
        },
        "id": "4b3893e3",
        "outputId": "a3bdba01-c624-4fdb-c789-567bab13da5f"
      },
      "outputs": [
        {
          "output_type": "execute_result",
          "data": {
            "text/plain": [
              "MultinomialNB()"
            ],
            "text/html": [
              "<style>#sk-container-id-3 {color: black;background-color: white;}#sk-container-id-3 pre{padding: 0;}#sk-container-id-3 div.sk-toggleable {background-color: white;}#sk-container-id-3 label.sk-toggleable__label {cursor: pointer;display: block;width: 100%;margin-bottom: 0;padding: 0.3em;box-sizing: border-box;text-align: center;}#sk-container-id-3 label.sk-toggleable__label-arrow:before {content: \"▸\";float: left;margin-right: 0.25em;color: #696969;}#sk-container-id-3 label.sk-toggleable__label-arrow:hover:before {color: black;}#sk-container-id-3 div.sk-estimator:hover label.sk-toggleable__label-arrow:before {color: black;}#sk-container-id-3 div.sk-toggleable__content {max-height: 0;max-width: 0;overflow: hidden;text-align: left;background-color: #f0f8ff;}#sk-container-id-3 div.sk-toggleable__content pre {margin: 0.2em;color: black;border-radius: 0.25em;background-color: #f0f8ff;}#sk-container-id-3 input.sk-toggleable__control:checked~div.sk-toggleable__content {max-height: 200px;max-width: 100%;overflow: auto;}#sk-container-id-3 input.sk-toggleable__control:checked~label.sk-toggleable__label-arrow:before {content: \"▾\";}#sk-container-id-3 div.sk-estimator input.sk-toggleable__control:checked~label.sk-toggleable__label {background-color: #d4ebff;}#sk-container-id-3 div.sk-label input.sk-toggleable__control:checked~label.sk-toggleable__label {background-color: #d4ebff;}#sk-container-id-3 input.sk-hidden--visually {border: 0;clip: rect(1px 1px 1px 1px);clip: rect(1px, 1px, 1px, 1px);height: 1px;margin: -1px;overflow: hidden;padding: 0;position: absolute;width: 1px;}#sk-container-id-3 div.sk-estimator {font-family: monospace;background-color: #f0f8ff;border: 1px dotted black;border-radius: 0.25em;box-sizing: border-box;margin-bottom: 0.5em;}#sk-container-id-3 div.sk-estimator:hover {background-color: #d4ebff;}#sk-container-id-3 div.sk-parallel-item::after {content: \"\";width: 100%;border-bottom: 1px solid gray;flex-grow: 1;}#sk-container-id-3 div.sk-label:hover label.sk-toggleable__label {background-color: #d4ebff;}#sk-container-id-3 div.sk-serial::before {content: \"\";position: absolute;border-left: 1px solid gray;box-sizing: border-box;top: 0;bottom: 0;left: 50%;z-index: 0;}#sk-container-id-3 div.sk-serial {display: flex;flex-direction: column;align-items: center;background-color: white;padding-right: 0.2em;padding-left: 0.2em;position: relative;}#sk-container-id-3 div.sk-item {position: relative;z-index: 1;}#sk-container-id-3 div.sk-parallel {display: flex;align-items: stretch;justify-content: center;background-color: white;position: relative;}#sk-container-id-3 div.sk-item::before, #sk-container-id-3 div.sk-parallel-item::before {content: \"\";position: absolute;border-left: 1px solid gray;box-sizing: border-box;top: 0;bottom: 0;left: 50%;z-index: -1;}#sk-container-id-3 div.sk-parallel-item {display: flex;flex-direction: column;z-index: 1;position: relative;background-color: white;}#sk-container-id-3 div.sk-parallel-item:first-child::after {align-self: flex-end;width: 50%;}#sk-container-id-3 div.sk-parallel-item:last-child::after {align-self: flex-start;width: 50%;}#sk-container-id-3 div.sk-parallel-item:only-child::after {width: 0;}#sk-container-id-3 div.sk-dashed-wrapped {border: 1px dashed gray;margin: 0 0.4em 0.5em 0.4em;box-sizing: border-box;padding-bottom: 0.4em;background-color: white;}#sk-container-id-3 div.sk-label label {font-family: monospace;font-weight: bold;display: inline-block;line-height: 1.2em;}#sk-container-id-3 div.sk-label-container {text-align: center;}#sk-container-id-3 div.sk-container {/* jupyter's `normalize.less` sets `[hidden] { display: none; }` but bootstrap.min.css set `[hidden] { display: none !important; }` so we also need the `!important` here to be able to override the default hidden behavior on the sphinx rendered scikit-learn.org. See: https://github.com/scikit-learn/scikit-learn/issues/21755 */display: inline-block !important;position: relative;}#sk-container-id-3 div.sk-text-repr-fallback {display: none;}</style><div id=\"sk-container-id-3\" class=\"sk-top-container\"><div class=\"sk-text-repr-fallback\"><pre>MultinomialNB()</pre><b>In a Jupyter environment, please rerun this cell to show the HTML representation or trust the notebook. <br />On GitHub, the HTML representation is unable to render, please try loading this page with nbviewer.org.</b></div><div class=\"sk-container\" hidden><div class=\"sk-item\"><div class=\"sk-estimator sk-toggleable\"><input class=\"sk-toggleable__control sk-hidden--visually\" id=\"sk-estimator-id-3\" type=\"checkbox\" checked><label for=\"sk-estimator-id-3\" class=\"sk-toggleable__label sk-toggleable__label-arrow\">MultinomialNB</label><div class=\"sk-toggleable__content\"><pre>MultinomialNB()</pre></div></div></div></div></div>"
            ]
          },
          "metadata": {},
          "execution_count": 56
        }
      ],
      "source": [
        "#Fitting multinomial naive bayes \n",
        "from sklearn.naive_bayes import MultinomialNB\n",
        "model = MultinomialNB()\n",
        "model.fit(X_train_count,y_train)\n"
      ]
    },
    {
      "cell_type": "code",
      "execution_count": null,
      "id": "41f4c527",
      "metadata": {
        "execution": {
          "iopub.execute_input": "2023-03-08T09:01:25.880291Z",
          "iopub.status.busy": "2023-03-08T09:01:25.879583Z",
          "iopub.status.idle": "2023-03-08T09:01:25.884906Z",
          "shell.execute_reply": "2023-03-08T09:01:25.883914Z"
        },
        "papermill": {
          "duration": 0.015336,
          "end_time": "2023-03-08T09:01:25.887177",
          "exception": false,
          "start_time": "2023-03-08T09:01:25.871841",
          "status": "completed"
        },
        "tags": [],
        "id": "41f4c527"
      },
      "outputs": [],
      "source": [
        "from sklearn.metrics import confusion_matrix , recall_score , precision_score\n",
        "from sklearn.metrics import accuracy_score"
      ]
    },
    {
      "cell_type": "code",
      "execution_count": null,
      "id": "774d7023",
      "metadata": {
        "execution": {
          "iopub.execute_input": "2023-03-08T09:01:25.902411Z",
          "iopub.status.busy": "2023-03-08T09:01:25.901475Z",
          "iopub.status.idle": "2023-03-08T09:01:25.908864Z",
          "shell.execute_reply": "2023-03-08T09:01:25.907877Z"
        },
        "papermill": {
          "duration": 0.016963,
          "end_time": "2023-03-08T09:01:25.911064",
          "exception": false,
          "start_time": "2023-03-08T09:01:25.894101",
          "status": "completed"
        },
        "tags": [],
        "colab": {
          "base_uri": "https://localhost:8080/"
        },
        "id": "774d7023",
        "outputId": "7ff23a59-2272-4322-b8d8-aa8714b8399f"
      },
      "outputs": [
        {
          "output_type": "execute_result",
          "data": {
            "text/plain": [
              "array([0])"
            ]
          },
          "metadata": {},
          "execution_count": 58
        }
      ],
      "source": [
        "#Testing  the mail (spam/ham)\n",
        "\n",
        "mail_ham = ['Same. Wana plan a trip sometme then']\n",
        "mail_ham_count = cv.transform(mail_ham)\n",
        "y_pred = model.predict(mail_ham_count)\n",
        "y_pred\n"
      ]
    },
    {
      "cell_type": "code",
      "execution_count": null,
      "id": "7be78e1c",
      "metadata": {
        "execution": {
          "iopub.execute_input": "2023-03-08T09:01:25.926124Z",
          "iopub.status.busy": "2023-03-08T09:01:25.925051Z",
          "iopub.status.idle": "2023-03-08T09:01:25.934132Z",
          "shell.execute_reply": "2023-03-08T09:01:25.932972Z"
        },
        "papermill": {
          "duration": 0.018811,
          "end_time": "2023-03-08T09:01:25.936339",
          "exception": false,
          "start_time": "2023-03-08T09:01:25.917528",
          "status": "completed"
        },
        "tags": [],
        "colab": {
          "base_uri": "https://localhost:8080/"
        },
        "id": "7be78e1c",
        "outputId": "463ee95a-f9d5-495d-a149-9c93192a2ba7"
      },
      "outputs": [
        {
          "output_type": "execute_result",
          "data": {
            "text/plain": [
              "0.9929866989117292"
            ]
          },
          "metadata": {},
          "execution_count": 59
        }
      ],
      "source": [
        "#finding accuracy of the training dataset\n",
        "model.score(X_train_count,y_train)\n"
      ]
    },
    {
      "cell_type": "code",
      "execution_count": null,
      "id": "d4261a10",
      "metadata": {
        "execution": {
          "iopub.execute_input": "2023-03-08T09:01:25.950988Z",
          "iopub.status.busy": "2023-03-08T09:01:25.950633Z",
          "iopub.status.idle": "2023-03-08T09:01:25.973772Z",
          "shell.execute_reply": "2023-03-08T09:01:25.973027Z"
        },
        "papermill": {
          "duration": 0.032462,
          "end_time": "2023-03-08T09:01:25.975657",
          "exception": false,
          "start_time": "2023-03-08T09:01:25.943195",
          "status": "completed"
        },
        "tags": [],
        "colab": {
          "base_uri": "https://localhost:8080/"
        },
        "id": "d4261a10",
        "outputId": "ccd337e5-b15c-4609-a158-40a7639e2aa0"
      },
      "outputs": [
        {
          "output_type": "execute_result",
          "data": {
            "text/plain": [
              "0.9816247582205029"
            ]
          },
          "metadata": {},
          "execution_count": 60
        }
      ],
      "source": [
        "\n",
        "#finding accuracy of the test dataset\n",
        "X_test_count = cv.transform(X_test)\n",
        "model.score(X_test_count,y_test)\n",
        "\n"
      ]
    },
    {
      "cell_type": "markdown",
      "id": "ebe789de",
      "metadata": {
        "papermill": {
          "duration": 0.006388,
          "end_time": "2023-03-08T09:01:25.988733",
          "exception": false,
          "start_time": "2023-03-08T09:01:25.982345",
          "status": "completed"
        },
        "tags": [],
        "id": "ebe789de"
      },
      "source": [
        "THANK YOU"
      ]
    },
    {
      "cell_type": "code",
      "execution_count": null,
      "id": "dc7a5a5d",
      "metadata": {
        "papermill": {
          "duration": 0.006472,
          "end_time": "2023-03-08T09:01:26.002449",
          "exception": false,
          "start_time": "2023-03-08T09:01:25.995977",
          "status": "completed"
        },
        "tags": [],
        "id": "dc7a5a5d"
      },
      "outputs": [],
      "source": []
    }
  ],
  "metadata": {
    "kernelspec": {
      "display_name": "Python 3",
      "language": "python",
      "name": "python3"
    },
    "language_info": {
      "codemirror_mode": {
        "name": "ipython",
        "version": 3
      },
      "file_extension": ".py",
      "mimetype": "text/x-python",
      "name": "python",
      "nbconvert_exporter": "python",
      "pygments_lexer": "ipython3",
      "version": "3.7.12"
    },
    "papermill": {
      "default_parameters": {},
      "duration": 12.49582,
      "end_time": "2023-03-08T09:01:26.731640",
      "environment_variables": {},
      "exception": null,
      "input_path": "__notebook__.ipynb",
      "output_path": "__notebook__.ipynb",
      "parameters": {},
      "start_time": "2023-03-08T09:01:14.235820",
      "version": "2.4.0"
    },
    "colab": {
      "provenance": []
    }
  },
  "nbformat": 4,
  "nbformat_minor": 5
}